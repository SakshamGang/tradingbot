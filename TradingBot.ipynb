{
 "cells": [
  {
   "cell_type": "code",
   "execution_count": 1,
   "id": "3f52c02e",
   "metadata": {},
   "outputs": [
    {
     "name": "stdout",
     "output_type": "stream",
     "text": [
      "https://api-t1.fyers.in/api/v3/generate-authcode?client_id=PP860PBEU0-100&redirect_uri=https%3A%2F%2Fgoogle.com&response_type=code&state=None\n"
     ]
    }
   ],
   "source": [
    "from fyers_apiv3 import fyersModel\n",
    "from fyers_apiv3.FyersWebsocket import data_ws\n",
    "import pandas as pd\n",
    "import time\n",
    "from datetime import date\n",
    "from datetime import datetime\n",
    "import pytz\n",
    "\n",
    "# Replace these values with your actual API credentials\n",
    "client_id = \"PP860PBEU0-100\"\n",
    "secret_key = \"JC501DPXH7\"\n",
    "redirect_uri = \"https://google.com\"\n",
    "response_type = \"code\"  \n",
    "state = \"sample_state\"\n",
    "session = fyersModel.SessionModel(\n",
    "    client_id=client_id,\n",
    "    secret_key=secret_key,\n",
    "    redirect_uri=redirect_uri,\n",
    "    response_type=response_type\n",
    ")\n",
    "response = session.generate_authcode()\n",
    "print(response)"
   ]
  },
  {
   "cell_type": "code",
   "execution_count": 2,
   "id": "88fe30de",
   "metadata": {},
   "outputs": [],
   "source": [
    "auth_code = \"eyJ0eXAiOiJKV1QiLCJhbGciOiJIUzI1NiJ9.eyJpc3MiOiJhcGkubG9naW4uZnllcnMuaW4iLCJpYXQiOjE3MDI5Mjg0MTUsImV4cCI6MTcwMjk1ODQxNSwibmJmIjoxNzAyOTI3ODE1LCJhdWQiOiJbXCJ4OjBcIiwgXCJ4OjFcIiwgXCJ4OjJcIiwgXCJkOjFcIiwgXCJkOjJcIiwgXCJ4OjFcIiwgXCJ4OjBcIl0iLCJzdWIiOiJhdXRoX2NvZGUiLCJkaXNwbGF5X25hbWUiOiJYUzk4MzY4Iiwib21zIjoiSzEiLCJoc21fa2V5IjoiMzhlNjgzNTVmMGQ3NTUyMTYyZDJhN2RlMzBkYTJjZjI4YzhjYmRjNjEzNWVkYmEyYjJkNTc2MjciLCJub25jZSI6IiIsImFwcF9pZCI6IlBQODYwUEJFVTAiLCJ1dWlkIjoiNjMxY2JhNGNlZTFiNDViZmIzNjI0YWEyZWI3YmZlODUiLCJpcEFkZHIiOiIwLjAuMC4wIiwic2NvcGUiOiIifQ.GkY6Q_0JeEZgXdrAvCsu5LGMVLgMMK1gFu-6GWsaoH4\""
   ]
  },
  {
   "cell_type": "code",
   "execution_count": 3,
   "id": "cee0d610",
   "metadata": {},
   "outputs": [
    {
     "name": "stdout",
     "output_type": "stream",
     "text": [
      "{'s': 'ok', 'code': 200, 'message': '', 'access_token': 'eyJ0eXAiOiJKV1QiLCJhbGciOiJIUzI1NiJ9.eyJpc3MiOiJhcGkuZnllcnMuaW4iLCJpYXQiOjE3MDI5Mjg0NDIsImV4cCI6MTcwMjk0NTg0MiwibmJmIjoxNzAyOTI4NDQyLCJhdWQiOlsieDowIiwieDoxIiwieDoyIiwiZDoxIiwiZDoyIiwieDoxIiwieDowIl0sInN1YiI6ImFjY2Vzc190b2tlbiIsImF0X2hhc2giOiJnQUFBQUFCbGdLQTYxVmp6aFRTSEFRNl90eDMwekY0QWhUQVpUQlV5a3ZuZ2lFNVcxR014ZDhRUnRBUTRKbFBfQmhPdFl3QkdEclVaZ1htSENqRmZjaDkyN2o5SFE2VmNULUZKRkxQM01Ucm44bU9HNGY5aFRHbz0iLCJkaXNwbGF5X25hbWUiOiJTQU5TS0FSIFNSSVZBU1RBVkEiLCJvbXMiOiJLMSIsImhzbV9rZXkiOiIzOGU2ODM1NWYwZDc1NTIxNjJkMmE3ZGUzMGRhMmNmMjhjOGNiZGM2MTM1ZWRiYTJiMmQ1NzYyNyIsImZ5X2lkIjoiWFM5ODM2OCIsImFwcFR5cGUiOjEwMCwicG9hX2ZsYWciOiJOIn0.8tHIUetPCs2peiCT60uSlSOtfv1A214B0diIR8ML1Qk', 'refresh_token': 'eyJ0eXAiOiJKV1QiLCJhbGciOiJIUzI1NiJ9.eyJpc3MiOiJhcGkuZnllcnMuaW4iLCJpYXQiOjE3MDI5Mjg0NDIsImV4cCI6MTcwNDE1NTQ0MiwibmJmIjoxNzAyOTI4NDQyLCJhdWQiOlsieDowIiwieDoxIiwieDoyIiwiZDoxIiwiZDoyIiwieDoxIiwieDowIl0sInN1YiI6InJlZnJlc2hfdG9rZW4iLCJhdF9oYXNoIjoiZ0FBQUFBQmxnS0E2MVZqemhUU0hBUTZfdHgzMHpGNEFoVEFaVEJVeWt2bmdpRTVXMUdNeGQ4UVJ0QVE0SmxQX0JoT3RZd0JHRHJVWmdYbUhDakZmY2g5MjdqOUhRNlZjVC1GSkZMUDNNVHJuOG1PRzRmOWhUR289IiwiZGlzcGxheV9uYW1lIjoiU0FOU0tBUiBTUklWQVNUQVZBIiwib21zIjoiSzEiLCJoc21fa2V5IjoiMzhlNjgzNTVmMGQ3NTUyMTYyZDJhN2RlMzBkYTJjZjI4YzhjYmRjNjEzNWVkYmEyYjJkNTc2MjciLCJmeV9pZCI6IlhTOTgzNjgiLCJhcHBUeXBlIjoxMDAsInBvYV9mbGFnIjoiTiJ9._RgrlZ-WDO2RDYcZ5mFdfyEWdz5-NukulwgrthiAQf8'}\n"
     ]
    }
   ],
   "source": [
    "grant_type = \"authorization_code\"\n",
    "session = fyersModel.SessionModel(\n",
    "    client_id=client_id,\n",
    "    secret_key=secret_key, \n",
    "    redirect_uri=redirect_uri, \n",
    "    response_type=response_type, \n",
    "    grant_type=grant_type\n",
    ")\n",
    "session.set_token(auth_code)\n",
    "response = session.generate_token()\n",
    "print(response)"
   ]
  },
  {
   "cell_type": "code",
   "execution_count": 4,
   "id": "9de86ec2",
   "metadata": {},
   "outputs": [
    {
     "name": "stdout",
     "output_type": "stream",
     "text": [
      "eyJ0eXAiOiJKV1QiLCJhbGciOiJIUzI1NiJ9.eyJpc3MiOiJhcGkuZnllcnMuaW4iLCJpYXQiOjE3MDI5Mjg0NDIsImV4cCI6MTcwMjk0NTg0MiwibmJmIjoxNzAyOTI4NDQyLCJhdWQiOlsieDowIiwieDoxIiwieDoyIiwiZDoxIiwiZDoyIiwieDoxIiwieDowIl0sInN1YiI6ImFjY2Vzc190b2tlbiIsImF0X2hhc2giOiJnQUFBQUFCbGdLQTYxVmp6aFRTSEFRNl90eDMwekY0QWhUQVpUQlV5a3ZuZ2lFNVcxR014ZDhRUnRBUTRKbFBfQmhPdFl3QkdEclVaZ1htSENqRmZjaDkyN2o5SFE2VmNULUZKRkxQM01Ucm44bU9HNGY5aFRHbz0iLCJkaXNwbGF5X25hbWUiOiJTQU5TS0FSIFNSSVZBU1RBVkEiLCJvbXMiOiJLMSIsImhzbV9rZXkiOiIzOGU2ODM1NWYwZDc1NTIxNjJkMmE3ZGUzMGRhMmNmMjhjOGNiZGM2MTM1ZWRiYTJiMmQ1NzYyNyIsImZ5X2lkIjoiWFM5ODM2OCIsImFwcFR5cGUiOjEwMCwicG9hX2ZsYWciOiJOIn0.8tHIUetPCs2peiCT60uSlSOtfv1A214B0diIR8ML1Qk\n"
     ]
    }
   ],
   "source": [
    "df=pd.DataFrame()\n",
    "df=response\n",
    "tk=df['access_token']\n",
    "print(tk)"
   ]
  },
  {
   "cell_type": "code",
   "execution_count": 5,
   "id": "65b67184",
   "metadata": {},
   "outputs": [],
   "source": [
    "fyers = fyersModel.FyersModel(client_id=client_id, is_async=False, token=tk, log_path=\"\")"
   ]
  },
  {
   "cell_type": "code",
   "execution_count": 6,
   "id": "c609cec5",
   "metadata": {},
   "outputs": [],
   "source": [
    "def signal_generator(df):\n",
    "    Open = df.open.iloc[-1]\n",
    "    Close = df.close.iloc[-1]\n",
    "    previous_Open = df.open.iloc[-2]\n",
    "    previous_Close = df.close.iloc[-2]\n",
    "    \n",
    "    # red candle\n",
    "    if (Open>Close):\n",
    "        return 1\n",
    "\n",
    "    # green candle\n",
    "    elif (Open<Close):\n",
    "        return 2\n",
    "    \n",
    "    # No clear pattern\n",
    "    else:\n",
    "        return 0\n"
   ]
  },
  {
   "cell_type": "code",
   "execution_count": 7,
   "id": "c4538f28",
   "metadata": {},
   "outputs": [
    {
     "name": "stdout",
     "output_type": "stream",
     "text": [
      "Enter the symbol for call : NSE:BANKNIFTY23D2047800CE\n"
     ]
    }
   ],
   "source": [
    "call=input(\"Enter the symbol for call : \")"
   ]
  },
  {
   "cell_type": "code",
   "execution_count": 8,
   "id": "ba0cd1ec",
   "metadata": {},
   "outputs": [
    {
     "name": "stdout",
     "output_type": "stream",
     "text": [
      "Enter the symbol for put : NSE:BANKNIFTY23D2047100PE\n"
     ]
    }
   ],
   "source": [
    "put=input(\"Enter the symbol for put : \")"
   ]
  },
  {
   "cell_type": "code",
   "execution_count": 9,
   "id": "30ecfc5a",
   "metadata": {},
   "outputs": [
    {
     "name": "stdout",
     "output_type": "stream",
     "text": [
      "Enter qty for tight lots for call option:  15\n"
     ]
    }
   ],
   "source": [
    "calltight=int(input(\"Enter qty for tight lots for call option:  \"))"
   ]
  },
  {
   "cell_type": "code",
   "execution_count": 10,
   "id": "4db9adf1",
   "metadata": {},
   "outputs": [
    {
     "name": "stdout",
     "output_type": "stream",
     "text": [
      "Enter qty for spare lots for call option:  15\n"
     ]
    }
   ],
   "source": [
    "callspare=int(input(\"Enter qty for spare lots for call option:  \"))"
   ]
  },
  {
   "cell_type": "code",
   "execution_count": 11,
   "id": "f60e3cfe",
   "metadata": {},
   "outputs": [
    {
     "name": "stdout",
     "output_type": "stream",
     "text": [
      "Enter qty for tight lots for put option:  15\n"
     ]
    }
   ],
   "source": [
    "puttight=int(input(\"Enter qty for tight lots for put option:  \"))"
   ]
  },
  {
   "cell_type": "code",
   "execution_count": 12,
   "id": "774a6e7f",
   "metadata": {},
   "outputs": [
    {
     "name": "stdout",
     "output_type": "stream",
     "text": [
      "Enter qty for spare lots for put option:  15\n"
     ]
    }
   ],
   "source": [
    "putspare=int(input(\"Enter qty for spare lots for put option:  \"))"
   ]
  },
  {
   "cell_type": "code",
   "execution_count": 13,
   "id": "3a051315",
   "metadata": {},
   "outputs": [
    {
     "name": "stdout",
     "output_type": "stream",
     "text": [
      "Enter the resolution : 5\n"
     ]
    }
   ],
   "source": [
    "reso=input(\"Enter the resolution : \")"
   ]
  },
  {
   "cell_type": "code",
   "execution_count": 14,
   "id": "c21247cf",
   "metadata": {},
   "outputs": [],
   "source": [
    "goodpairCE = pd.DataFrame(columns=['Date', 'Time', 'HC', 'LC', 'ET', 'ES', 'orderIDT', 'orderIDS', 'Target', 'SL'])\n",
    "global goodpairCE"
   ]
  },
  {
   "cell_type": "code",
   "execution_count": 19,
   "id": "937201e1",
   "metadata": {},
   "outputs": [],
   "source": [
    "def get_datacall():\n",
    "    data = {\n",
    "    \"symbol\":call,\n",
    "    \"resolution\":reso,\n",
    "    \"date_format\":\"1\",\n",
    "    \"range_from\":date.today(),\n",
    "    \"range_to\":date.today(),\n",
    "    \"cont_flag\":\"1\"\n",
    "    }\n",
    "\n",
    "    hdata=fyers.history(data=data)\n",
    "    df = pd.DataFrame.from_dict(hdata['candles'])\n",
    "    cols = ['datetime','open','high','low','close','volume']\n",
    "    df.columns=cols\n",
    "    df['datetime']= pd.to_datetime(df['datetime'],unit=\"s\")\n",
    "    df['datetime'] = df['datetime'].dt.tz_localize('utc').dt.tz_convert('Asia/Kolkata')\n",
    "    df['datetime'] = df['datetime'].dt.tz_localize(None)\n",
    "    df['date'] = df['datetime'].dt.date\n",
    "    df['time'] = df['datetime'].dt.time\n",
    "    \n",
    "    signal = []\n",
    "    signal.append(0)\n",
    "    for i in range(1,len(df)):\n",
    "        dataF = df[i-1:i+1]\n",
    "        signal.append(signal_generator(dataF))\n",
    "    df[\"signal\"] = signal\n",
    "    \n",
    "    h=0\n",
    "    l=0\n",
    "    t=0\n",
    "    signalfirst = df.signal.iloc[-1]\n",
    "    signalsecond = df.signal.iloc[-2]\n",
    "    presenthigh = df.high.iloc[-1]\n",
    "    previoushigh = df.high.iloc[-2]\n",
    "    presentlow = df.low.iloc[-1]\n",
    "    previouslow = df.low.iloc[-2]\n",
    "    previoustime = df.time.iloc[-2]\n",
    "    presenttime = df.time.iloc[-1]\n",
    "    previousdate = df.date.iloc[-2]\n",
    "    presentdate = df.date.iloc[-1]\n",
    "    \n",
    "    if(signalfirst!=signalsecond):\n",
    "        if(previoushigh>presenthigh and presentlow<previouslow):\n",
    "            h = previoushigh\n",
    "            l = presentlow\n",
    "            t=1\n",
    "        elif(previoushigh<presenthigh and presentlow>previouslow):\n",
    "            h = presenthigh\n",
    "            l = previouslow\n",
    "            t=1\n",
    "        elif(presentlow<previouslow and presenthigh>previoushigh and 0<=(presenthigh-previoushigh)<=1):\n",
    "            h=presenthigh\n",
    "            l=presentlow\n",
    "            t=1\n",
    "        elif(previouslow<presentlow and previoushigh>presenthigh and 0<=(previoushigh-presenthigh)<=1):\n",
    "            h=previoushigh\n",
    "            l=previouslow\n",
    "            t=1\n",
    "    if(abs(h-l)>=0 and abs(h-l)<=30 and t==1):\n",
    "        goodpairCE.loc[len(goodpairCE)] = [previousdate, previoustime, h, l, 0, 0, 0, 0, 0, 0]"
   ]
  },
  {
   "cell_type": "code",
   "execution_count": 20,
   "id": "76a3d887",
   "metadata": {},
   "outputs": [
    {
     "data": {
      "text/html": [
       "<div>\n",
       "<style scoped>\n",
       "    .dataframe tbody tr th:only-of-type {\n",
       "        vertical-align: middle;\n",
       "    }\n",
       "\n",
       "    .dataframe tbody tr th {\n",
       "        vertical-align: top;\n",
       "    }\n",
       "\n",
       "    .dataframe thead th {\n",
       "        text-align: right;\n",
       "    }\n",
       "</style>\n",
       "<table border=\"1\" class=\"dataframe\">\n",
       "  <thead>\n",
       "    <tr style=\"text-align: right;\">\n",
       "      <th></th>\n",
       "      <th>Date</th>\n",
       "      <th>Time</th>\n",
       "      <th>HC</th>\n",
       "      <th>LC</th>\n",
       "      <th>ET</th>\n",
       "      <th>ES</th>\n",
       "      <th>orderIDT</th>\n",
       "      <th>orderIDS</th>\n",
       "      <th>Target</th>\n",
       "      <th>SL</th>\n",
       "    </tr>\n",
       "  </thead>\n",
       "  <tbody>\n",
       "  </tbody>\n",
       "</table>\n",
       "</div>"
      ],
      "text/plain": [
       "Empty DataFrame\n",
       "Columns: [Date, Time, HC, LC, ET, ES, orderIDT, orderIDS, Target, SL]\n",
       "Index: []"
      ]
     },
     "execution_count": 20,
     "metadata": {},
     "output_type": "execute_result"
    }
   ],
   "source": [
    "get_datacall()\n",
    "goodpairCE"
   ]
  },
  {
   "cell_type": "code",
   "execution_count": 21,
   "id": "7d39d93d",
   "metadata": {},
   "outputs": [],
   "source": [
    "goodpairPE = pd.DataFrame(columns=['Date', 'Time', 'HP', 'LP', 'ET', 'ES', 'orderIDT', 'orderIDS', 'Target', 'SL'])\n",
    "global goodpairPE"
   ]
  },
  {
   "cell_type": "code",
   "execution_count": 32,
   "id": "5f12776c",
   "metadata": {},
   "outputs": [],
   "source": [
    "def get_dataput():\n",
    "    data = {\n",
    "    \"symbol\":put,\n",
    "    \"resolution\":reso,\n",
    "    \"date_format\":\"1\",\n",
    "    \"range_from\":date.today(),\n",
    "    \"range_to\":date.today(),\n",
    "    \"cont_flag\":\"1\"\n",
    "    }\n",
    "\n",
    "    hdata=fyers.history(data=data)\n",
    "    df = pd.DataFrame.from_dict(hdata['candles'])\n",
    "    cols = ['datetime','open','high','low','close','volume']\n",
    "    df.columns=cols\n",
    "    df['datetime']= pd.to_datetime(df['datetime'],unit=\"s\")\n",
    "    df['datetime'] = df['datetime'].dt.tz_localize('utc').dt.tz_convert('Asia/Kolkata')\n",
    "    df['datetime'] = df['datetime'].dt.tz_localize(None)\n",
    "    df['date'] = df['datetime'].dt.date\n",
    "    df['time'] = df['datetime'].dt.time\n",
    "    \n",
    "    signal = []\n",
    "    signal.append(0)\n",
    "    for i in range(1,len(df)):\n",
    "        dataF = df[i-1:i+1]\n",
    "        signal.append(signal_generator(dataF))\n",
    "    df[\"signal\"] = signal\n",
    "    \n",
    "    h=0\n",
    "    l=0\n",
    "    t=0\n",
    "    signalfirst = df.signal.iloc[-1]\n",
    "    signalsecond = df.signal.iloc[-2]\n",
    "    presenthigh = df.high.iloc[-1]\n",
    "    previoushigh = df.high.iloc[-2]\n",
    "    presentlow = df.low.iloc[-1]\n",
    "    previouslow = df.low.iloc[-2]\n",
    "    previoustime = df.time.iloc[-2]\n",
    "    presenttime = df.time.iloc[-1]\n",
    "    previousdate = df.date.iloc[-2]\n",
    "    presentdate = df.date.iloc[-1]\n",
    "    \n",
    "    if(signalfirst!=signalsecond):\n",
    "        if(previoushigh>presenthigh and presentlow<previouslow):\n",
    "            h = previoushigh\n",
    "            l = presentlow\n",
    "            t=1\n",
    "        elif(previoushigh<presenthigh and presentlow>previouslow):\n",
    "            h = presenthigh\n",
    "            l = previouslow\n",
    "            t=1\n",
    "        elif(presentlow<previouslow and presenthigh>previoushigh and 0<=(presenthigh-previoushigh)<=1):\n",
    "            h=presenthigh\n",
    "            l=presentlow\n",
    "            t=1\n",
    "        elif(previouslow<presentlow and previoushigh>presenthigh and 0<=(previoushigh-presenthigh)<=1):\n",
    "                h=previoushigh\n",
    "                l=previouslow\n",
    "                t=1\n",
    "    if(abs(h-l)>=0 and abs(h-l)<=30 and t==1):\n",
    "        goodpairPE.loc[len(goodpairPE)] = [previousdate, previoustime, h, l, 0, 0, 0, 0, 0, 0]"
   ]
  },
  {
   "cell_type": "code",
   "execution_count": 33,
   "id": "4b27b24b",
   "metadata": {},
   "outputs": [
    {
     "data": {
      "text/html": [
       "<div>\n",
       "<style scoped>\n",
       "    .dataframe tbody tr th:only-of-type {\n",
       "        vertical-align: middle;\n",
       "    }\n",
       "\n",
       "    .dataframe tbody tr th {\n",
       "        vertical-align: top;\n",
       "    }\n",
       "\n",
       "    .dataframe thead th {\n",
       "        text-align: right;\n",
       "    }\n",
       "</style>\n",
       "<table border=\"1\" class=\"dataframe\">\n",
       "  <thead>\n",
       "    <tr style=\"text-align: right;\">\n",
       "      <th></th>\n",
       "      <th>Date</th>\n",
       "      <th>Time</th>\n",
       "      <th>HP</th>\n",
       "      <th>LP</th>\n",
       "      <th>ET</th>\n",
       "      <th>ES</th>\n",
       "      <th>orderIDT</th>\n",
       "      <th>orderIDS</th>\n",
       "      <th>Target</th>\n",
       "      <th>SL</th>\n",
       "    </tr>\n",
       "  </thead>\n",
       "  <tbody>\n",
       "  </tbody>\n",
       "</table>\n",
       "</div>"
      ],
      "text/plain": [
       "Empty DataFrame\n",
       "Columns: [Date, Time, HP, LP, ET, ES, orderIDT, orderIDS, Target, SL]\n",
       "Index: []"
      ]
     },
     "execution_count": 33,
     "metadata": {},
     "output_type": "execute_result"
    }
   ],
   "source": [
    "get_dataput()\n",
    "goodpairPE"
   ]
  },
  {
   "cell_type": "code",
   "execution_count": 34,
   "id": "50c64048",
   "metadata": {},
   "outputs": [
    {
     "name": "stdout",
     "output_type": "stream",
     "text": [
      "Response :  {'type': 'cn', 'code': 200, 'message': 'Authentication done', 's': 'ok'}\n",
      "Response :  {'type': 'ful', 'code': 200, 'message': 'Full Mode On', 's': 'ok'}\n",
      "Response :  {'type': 'sub', 'code': 200, 'message': 'Subscribed', 's': 'ok'}\n",
      "Response :  {'ltp': 205.15, 'vol_traded_today': 58497720, 'last_traded_time': 1702893599, 'exch_feed_time': 1702893600, 'bid_size': 255, 'ask_size': 390, 'bid_price': 197.2, 'ask_price': 204.8, 'last_traded_qty': 15, 'tot_buy_qty': 80070, 'tot_sell_qty': 244260, 'avg_trade_price': 301.53, 'low_price': 193.35, 'high_price': 427.85, 'lower_ckt': 0, 'upper_ckt': 0, 'open_price': 424.95, 'prev_close_price': 512.35, 'type': 'sf', 'symbol': 'NSE:BANKNIFTY23D2047800CE', 'ch': -307.2, 'chp': -59.959}\n",
      "Response :  {'ltp': 25.3, 'vol_traded_today': 12376560, 'last_traded_time': 1702893599, 'exch_feed_time': 1702893600, 'bid_size': 3465, 'ask_size': 900, 'bid_price': 25.3, 'ask_price': 25.65, 'last_traded_qty': 15, 'tot_buy_qty': 76755, 'tot_sell_qty': 71865, 'avg_trade_price': 30.63, 'low_price': 20.2, 'high_price': 50.9, 'lower_ckt': 0, 'upper_ckt': 0, 'open_price': 34.05, 'prev_close_price': 34.0, 'type': 'sf', 'symbol': 'NSE:BANKNIFTY23D2047100PE', 'ch': -8.7, 'chp': -25.5882}\n"
     ]
    }
   ],
   "source": [
    "def onmessage(message):\n",
    "    timezone = pytz.timezone('Asia/Kolkata')\n",
    "    t= datetime.now(timezone)\n",
    "    chr = t.hour\n",
    "    cmin = t.minute\n",
    "    csec = t.second\n",
    "    if (int(cmin) % int(reso) == 0 and int(csec)<3):\n",
    "        get_datacall()\n",
    "        get_dataput()\n",
    "    print(\"Response : \", message)\n",
    "    Funds = fyers.funds()\n",
    "    if (chr==15 and cmin==15 and csec==0):\n",
    "        closedata = {}\n",
    "        closeresponse = fyers.exit_positions(data=closedata)\n",
    "        print(closeresponse) \n",
    "    if (Funds['fund_limit'][0]['equityAmount']>15000 and len(goodpairCE)>=1 and goodpairCE.Date.iloc[-1]==date.today() and goodpairCE.ET.iloc[-1]==0 and message['symbol']==call and message['ltp']>=goodpairCE.HC.iloc[-1]):\n",
    "        cancelpending = {}\n",
    "        Response = fyers.cancel_order(data=cancelpending)\n",
    "        data_ct = {\n",
    "            \"symbol\":call,\n",
    "            \"qty\":calltight,\n",
    "            \"type\":4,\n",
    "            \"side\":1,\n",
    "            \"productType\":\"BO\",\n",
    "            \"limitPrice\":goodpairCE.HC.iloc[-1],\n",
    "            \"stopPrice\":goodpairCE.HC.iloc[-1],\n",
    "            \"validity\":\"DAY\",\n",
    "            \"disclosedQty\":0,\n",
    "            \"offlineOrder\":False,\n",
    "            \"stopLoss\":goodpairCE.HC.iloc[-1]-goodpairCE.LC.iloc[-1],\n",
    "            \"takeProfit\":15\n",
    "        }\n",
    "        response_ct = fyers.place_order(data=data_ct)\n",
    "        print(response_ct)\n",
    "        if response_ct['s']==\"ok\":\n",
    "            print(f\"entry tight slot for call {call}\")\n",
    "            goodpairCE.ET.iloc[-1]=1\n",
    "            goodpairCE.orderIDT.iloc[-1]=response_ct[\"id\"]\n",
    "        \n",
    "    if (Funds['fund_limit'][0]['equityAmount'] and len(goodpairPE)>=1 and goodpairPE.Date.iloc[-1]==date.today() and goodpairPE.ET.iloc[-1]==0 and message['symbol']==put and message['ltp']>=goodpairPE.HP.iloc[-1]):\n",
    "        cancelpending = {}\n",
    "        Response = fyers.cancel_order(data=cancelpending)\n",
    "        data_pt = {\n",
    "            \"symbol\":put,\n",
    "            \"qty\":puttight,\n",
    "            \"type\":4,\n",
    "            \"side\":1,\n",
    "            \"productType\":\"BO\",\n",
    "            \"limitPrice\":goodpairPE.HP.iloc[-1],\n",
    "            \"stopPrice\":goodpairPE.HP.iloc[-1],\n",
    "            \"validity\":\"DAY\",\n",
    "            \"disclosedQty\":0,\n",
    "            \"offlineOrder\":False,\n",
    "            \"stopLoss\":goodpairPE.HP.iloc[-1]-goodpairPE.LP.iloc[-1],\n",
    "            \"takeProfit\":15\n",
    "        }\n",
    "        response_pt = fyers.place_order(data=data_pt)\n",
    "        print(response_pt)\n",
    "        if response_pt['s']==\"ok\":\n",
    "            print(f\"entry tight slot for put {put}\")\n",
    "            goodpairPE.ET.iloc[-1]=1\n",
    "            goodpairPE.orderIDT.iloc[-1]=response_pt['id']\n",
    "            \n",
    "    if (Funds['fund_limit'][0]['equityAmount'] and len(goodpairCE)>=1 and goodpairCE.Date.iloc[-1]==date.today() and goodpairCE.ES.iloc[-1]==0 and message['symbol']==call and message['ltp']>=goodpairCE.HC.iloc[-1]):\n",
    "        cancelpending = {}\n",
    "        Response = fyers.cancel_order(data=cancelpending)\n",
    "        data_cs = {\n",
    "            \"symbol\":call,\n",
    "            \"qty\":callspare,\n",
    "            \"type\":4,\n",
    "            \"side\":1,\n",
    "            \"productType\":\"CO\",\n",
    "            \"limitPrice\":goodpairCE.HC.iloc[-1],\n",
    "            \"stopPrice\":goodpairCE.HC.iloc[-1],\n",
    "            \"validity\":\"DAY\",\n",
    "            \"disclosedQty\":0,\n",
    "            \"offlineOrder\":False,\n",
    "            \"stopLoss\":goodpairCE.HC.iloc[-1]-goodpairCE.LC.iloc[-1],\n",
    "            \"takeProfit\":0\n",
    "        }\n",
    "        response_cs = fyers.place_order(data=data_cs)\n",
    "        print(response_cs)\n",
    "        if response_cs['s']=='ok':\n",
    "            print(f\"entry spare slot for call {call}\")\n",
    "            goodpairCE.orderIDS.iloc[-1]=response_cs['id']\n",
    "            goodpairCE.Target.iloc[-1]=goodpairCE.HC.iloc[-1]+15\n",
    "            goodpairCE.SL.iloc[-1]=goodpairCE.LC.iloc[-1]\n",
    "            goodpairCE.ES.iloc[-1]=1\n",
    "            \n",
    "    for i in range(len(goodpairCE)):\n",
    "        if(goodpairCE.ES.iloc[i]==1 and message['symbol']==call and message['ltp']>=goodpairCE.Target.iloc[i]):\n",
    "            goodpairCE.Target.iloc[i]+=15\n",
    "            goodpairCE.SL.iloc[i]=goodpairCE.Target.iloc[i]-30\n",
    "            orderIdC=goodpairCE.orderIDS.iloc[i]\n",
    "            data_mcs = {\n",
    "                \"id\":orderIdC, \n",
    "                \"type\":1, \n",
    "                \"limitPrice\":goodpairCE.Target.iloc[i]-15,\n",
    "                \"stopPrice\":goodpairCE.Target.iloc[i]-15,\n",
    "                \"qty\":callspare\n",
    "            }\n",
    "            response_mcs = fyers.modify_order(data=data_mcs)\n",
    "            if response_mcs['s']=='ok':\n",
    "                print(f\"spare slot modified for call={call}, orderID={goodpairCE.orderIDS.iloc[i]}, target={goodpairCE.Target.iloc[i]}, sl={goodpairCE.SL.iloc[i]}\")\n",
    "        if(goodpairCE.ES.iloc[i]==1 and message['symbol']==call and message['ltp']<=goodpairCE.SL.iloc[i]):\n",
    "            exit_cs = {\"id\":goodpairCE.orderIDS.iloc[i]}\n",
    "            exit_response_cs = fyers.exit_positions(data=exit_cs)\n",
    "            print(f\"EXIT {goodpairCE.orderIDS.iloc[i]}\")\n",
    "            \n",
    "    if (Funds['fund_limit'][0]['equityAmount'] and len(goodpairPE)>=1 and goodpairPE.Date.iloc[-1]==date.today() and goodpairPE.ES.iloc[-1]==0 and message['symbol']==put and message['ltp']>=goodpairPE.HP.iloc[-1]):\n",
    "        cancelpending = {}\n",
    "        Response = fyers.cancel_order(data=cancelpending)\n",
    "        data_ps = {\n",
    "            \"symbol\":put,\n",
    "            \"qty\":putspare,\n",
    "            \"type\":4,\n",
    "            \"side\":1,\n",
    "            \"productType\":\"CO\",\n",
    "            \"limitPrice\":goodpairPE.HP.iloc[-1],\n",
    "            \"stopPrice\":goodpairPE.HP.iloc[-1],\n",
    "            \"validity\":\"DAY\",\n",
    "            \"disclosedQty\":0,\n",
    "            \"offlineOrder\":False,\n",
    "            \"stopLoss\":goodpairPE.HP.iloc[-1]-goodpairPE.LP.iloc[-1],\n",
    "            \"takeProfit\":0\n",
    "        }\n",
    "        response_ps = fyers.place_order(data=data_ps)\n",
    "        print(response_ps)\n",
    "        if response_ps['s']=='ok':\n",
    "            print(f\"entry spare slot for put {put}\")\n",
    "            goodpairPE.orderIDS.iloc[-1]=response_ps['id']\n",
    "            goodpairPE.Target.iloc[-1]=goodpairPE.HP.iloc[-1]+15\n",
    "            goodpairPE.SL.iloc[-1]=goodpairPE.LP.iloc[-1]\n",
    "            goodpairPE.ES.iloc[-1]=1\n",
    "            \n",
    "    for i in range(len(goodpairPE)):\n",
    "        if(goodpairPE.ES.iloc[-1]==1 and message['symbol']==put and message['ltp']>=goodpairPE.Target.iloc[i]):\n",
    "            goodpairPE.Target.iloc[i]+=15\n",
    "            goodpairPE.SL.iloc[i]=goodpairPE.Target.iloc[i]-30\n",
    "            orderIdP=goodpairPE.orderIDS.iloc[i]\n",
    "            data_mps = {\n",
    "                \"id\":orderIdP, \n",
    "                \"type\":1, \n",
    "                \"stopPrice\": goodpairPE.Target.iloc[i]-15,\n",
    "                \"qty\":putspare\n",
    "            }\n",
    "            response_mps = fyers.modify_order(data=data_mps)\n",
    "            if response_mps['s']=='ok':\n",
    "                print(f\"spare slot modified for put={put}, orderID={goodpairPE.orderIDS.iloc[i]}, target={goodpairPE.Target.iloc[i]}, sl={goodpairPE.SL.iloc[i]}\")\n",
    "        if(goodpairPE.ES.iloc[i]==1 and message['symbol']==put and message['ltp']<=goodpairPE.SL.iloc[i]):\n",
    "            exit_ps = {\"id\":goodpairPE.orderIDS.iloc[i]}\n",
    "            exit_response_ps = fyers.exit_positions(data=exit_ps)\n",
    "            print(f\"EXIT {goodpairPE.orderIDS.iloc[i]}\")\n",
    "                \n",
    "def onerror(message):\n",
    "    print(\"Error:\", message)\n",
    "\n",
    "def onclose(message):\n",
    "    print(\"Connection closed:\", message)\n",
    "\n",
    "def onopen():\n",
    "    data_type = \"SymbolUpdate\"\n",
    "    symbols = [call,put]\n",
    "    ofyers.subscribe(symbols=symbols, data_type=data_type)\n",
    "    ofyers.keep_running()\n",
    "access_token = client_id + \":\" + tk\n",
    "\n",
    "ofyers = data_ws.FyersDataSocket(\n",
    "    access_token=access_token,\n",
    "    log_path=\"\",                     \n",
    "    litemode=False,\n",
    "    write_to_file=False,              \n",
    "    reconnect=True,                 \n",
    "    on_connect=onopen,               \n",
    "    on_close=onclose,                \n",
    "    on_error=onerror,               \n",
    "    on_message=onmessage             \n",
    ")\n",
    "ofyers.connect()"
   ]
  },
  {
   "cell_type": "code",
   "execution_count": null,
   "id": "07df7f3d",
   "metadata": {},
   "outputs": [],
   "source": []
  }
 ],
 "metadata": {
  "kernelspec": {
   "display_name": "Python 3 (ipykernel)",
   "language": "python",
   "name": "python3"
  },
  "language_info": {
   "codemirror_mode": {
    "name": "ipython",
    "version": 3
   },
   "file_extension": ".py",
   "mimetype": "text/x-python",
   "name": "python",
   "nbconvert_exporter": "python",
   "pygments_lexer": "ipython3",
   "version": "3.11.5"
  }
 },
 "nbformat": 4,
 "nbformat_minor": 5
}
